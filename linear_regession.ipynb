{
 "cells": [
  {
   "cell_type": "code",
   "execution_count": null,
   "metadata": {},
   "outputs": [],
   "source": []
  }
 ],
 "metadata": {
  "kernelspec": {
   "display_name": "Python 3",
   "language": "python",
   "name": "python3"
  },
  "language_info": {
   "name": "python",
   "version": "3.10.-1"
  },
  "orig_nbformat": 4,
  "vscode": {
   "interpreter": {
    "hash": "d822f28d42ebb475ad8cce73c6f1d8b9d8cb17e96ffaed62cb524ec6ed5ad38f"
   }
  }
 },
 "nbformat": 4,
 "nbformat_minor": 2
}
